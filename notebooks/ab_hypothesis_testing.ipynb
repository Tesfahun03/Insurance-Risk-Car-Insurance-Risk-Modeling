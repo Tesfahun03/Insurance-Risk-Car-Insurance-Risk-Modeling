{
 "cells": [
  {
   "cell_type": "code",
   "execution_count": 1,
   "metadata": {},
   "outputs": [],
   "source": [
    "import pandas as pd\n",
    "import numpy as np"
   ]
  },
  {
   "cell_type": "code",
   "execution_count": 2,
   "metadata": {},
   "outputs": [],
   "source": [
    "import os\n",
    "import sys\n",
    "\n",
    "sys.path.append(os.path.abspath('..'))"
   ]
  },
  {
   "cell_type": "code",
   "execution_count": 3,
   "metadata": {},
   "outputs": [],
   "source": [
    "from src.hypothesis_testing import HypothesisTesting\n",
    "from src.preprocess_data import CleanData"
   ]
  },
  {
   "cell_type": "code",
   "execution_count": null,
   "metadata": {},
   "outputs": [
    {
     "name": "stderr",
     "output_type": "stream",
     "text": [
      "C:\\Users\\Temp\\AppData\\Local\\Temp\\ipykernel_12532\\2282525289.py:1: DtypeWarning: Columns (23) have mixed types. Specify dtype option on import or set low_memory=False.\n",
      "  df = pd.read_csv('C:/Users/Temp/Desktop/KAI-Projects/Insurance-Risk-Car-Insurance-Risk-Modeling/data/cleaned_data2.csv')\n"
     ]
    },
    {
     "data": {
      "text/html": [
       "<div>\n",
       "<style scoped>\n",
       "    .dataframe tbody tr th:only-of-type {\n",
       "        vertical-align: middle;\n",
       "    }\n",
       "\n",
       "    .dataframe tbody tr th {\n",
       "        vertical-align: top;\n",
       "    }\n",
       "\n",
       "    .dataframe thead th {\n",
       "        text-align: right;\n",
       "    }\n",
       "</style>\n",
       "<table border=\"1\" class=\"dataframe\">\n",
       "  <thead>\n",
       "    <tr style=\"text-align: right;\">\n",
       "      <th></th>\n",
       "      <th>UnderwrittenCoverID</th>\n",
       "      <th>PolicyID</th>\n",
       "      <th>PostalCode</th>\n",
       "      <th>RegistrationYear</th>\n",
       "      <th>Cylinders</th>\n",
       "      <th>cubiccapacity</th>\n",
       "      <th>kilowatts</th>\n",
       "      <th>SumInsured</th>\n",
       "      <th>CalculatedPremiumPerTerm</th>\n",
       "      <th>TotalPremium</th>\n",
       "      <th>TotalClaims</th>\n",
       "    </tr>\n",
       "  </thead>\n",
       "  <tbody>\n",
       "    <tr>\n",
       "      <th>0</th>\n",
       "      <td>145249</td>\n",
       "      <td>12827</td>\n",
       "      <td>1459</td>\n",
       "      <td>2004</td>\n",
       "      <td>6.0</td>\n",
       "      <td>2597.0</td>\n",
       "      <td>130.0</td>\n",
       "      <td>0.01</td>\n",
       "      <td>25.0000</td>\n",
       "      <td>21.929825</td>\n",
       "      <td>0.0</td>\n",
       "    </tr>\n",
       "    <tr>\n",
       "      <th>1</th>\n",
       "      <td>145249</td>\n",
       "      <td>12827</td>\n",
       "      <td>1459</td>\n",
       "      <td>2004</td>\n",
       "      <td>6.0</td>\n",
       "      <td>2597.0</td>\n",
       "      <td>130.0</td>\n",
       "      <td>0.01</td>\n",
       "      <td>25.0000</td>\n",
       "      <td>21.929825</td>\n",
       "      <td>0.0</td>\n",
       "    </tr>\n",
       "    <tr>\n",
       "      <th>2</th>\n",
       "      <td>145249</td>\n",
       "      <td>12827</td>\n",
       "      <td>1459</td>\n",
       "      <td>2004</td>\n",
       "      <td>6.0</td>\n",
       "      <td>2597.0</td>\n",
       "      <td>130.0</td>\n",
       "      <td>0.01</td>\n",
       "      <td>25.0000</td>\n",
       "      <td>0.000000</td>\n",
       "      <td>0.0</td>\n",
       "    </tr>\n",
       "    <tr>\n",
       "      <th>3</th>\n",
       "      <td>145255</td>\n",
       "      <td>12827</td>\n",
       "      <td>1459</td>\n",
       "      <td>2004</td>\n",
       "      <td>6.0</td>\n",
       "      <td>2597.0</td>\n",
       "      <td>130.0</td>\n",
       "      <td>119300.00</td>\n",
       "      <td>584.6468</td>\n",
       "      <td>512.848070</td>\n",
       "      <td>0.0</td>\n",
       "    </tr>\n",
       "    <tr>\n",
       "      <th>4</th>\n",
       "      <td>145255</td>\n",
       "      <td>12827</td>\n",
       "      <td>1459</td>\n",
       "      <td>2004</td>\n",
       "      <td>6.0</td>\n",
       "      <td>2597.0</td>\n",
       "      <td>130.0</td>\n",
       "      <td>119300.00</td>\n",
       "      <td>584.6468</td>\n",
       "      <td>0.000000</td>\n",
       "      <td>0.0</td>\n",
       "    </tr>\n",
       "    <tr>\n",
       "      <th>...</th>\n",
       "      <td>...</td>\n",
       "      <td>...</td>\n",
       "      <td>...</td>\n",
       "      <td>...</td>\n",
       "      <td>...</td>\n",
       "      <td>...</td>\n",
       "      <td>...</td>\n",
       "      <td>...</td>\n",
       "      <td>...</td>\n",
       "      <td>...</td>\n",
       "      <td>...</td>\n",
       "    </tr>\n",
       "    <tr>\n",
       "      <th>999539</th>\n",
       "      <td>31520</td>\n",
       "      <td>389</td>\n",
       "      <td>7493</td>\n",
       "      <td>2013</td>\n",
       "      <td>4.0</td>\n",
       "      <td>2693.0</td>\n",
       "      <td>110.0</td>\n",
       "      <td>500000.00</td>\n",
       "      <td>395.8481</td>\n",
       "      <td>347.235175</td>\n",
       "      <td>0.0</td>\n",
       "    </tr>\n",
       "    <tr>\n",
       "      <th>999540</th>\n",
       "      <td>31520</td>\n",
       "      <td>389</td>\n",
       "      <td>7493</td>\n",
       "      <td>2013</td>\n",
       "      <td>4.0</td>\n",
       "      <td>2693.0</td>\n",
       "      <td>110.0</td>\n",
       "      <td>500000.00</td>\n",
       "      <td>395.8481</td>\n",
       "      <td>347.235175</td>\n",
       "      <td>0.0</td>\n",
       "    </tr>\n",
       "    <tr>\n",
       "      <th>999541</th>\n",
       "      <td>31520</td>\n",
       "      <td>389</td>\n",
       "      <td>7493</td>\n",
       "      <td>2013</td>\n",
       "      <td>4.0</td>\n",
       "      <td>2693.0</td>\n",
       "      <td>110.0</td>\n",
       "      <td>500000.00</td>\n",
       "      <td>395.8481</td>\n",
       "      <td>347.235175</td>\n",
       "      <td>0.0</td>\n",
       "    </tr>\n",
       "    <tr>\n",
       "      <th>999542</th>\n",
       "      <td>31519</td>\n",
       "      <td>389</td>\n",
       "      <td>7493</td>\n",
       "      <td>2013</td>\n",
       "      <td>4.0</td>\n",
       "      <td>2693.0</td>\n",
       "      <td>110.0</td>\n",
       "      <td>5000000.00</td>\n",
       "      <td>2.6391</td>\n",
       "      <td>2.315000</td>\n",
       "      <td>0.0</td>\n",
       "    </tr>\n",
       "    <tr>\n",
       "      <th>999543</th>\n",
       "      <td>31519</td>\n",
       "      <td>389</td>\n",
       "      <td>7493</td>\n",
       "      <td>2013</td>\n",
       "      <td>4.0</td>\n",
       "      <td>2693.0</td>\n",
       "      <td>110.0</td>\n",
       "      <td>5000000.00</td>\n",
       "      <td>2.6391</td>\n",
       "      <td>2.315000</td>\n",
       "      <td>0.0</td>\n",
       "    </tr>\n",
       "  </tbody>\n",
       "</table>\n",
       "<p>999544 rows × 11 columns</p>\n",
       "</div>"
      ],
      "text/plain": [
       "        UnderwrittenCoverID  PolicyID  PostalCode  RegistrationYear  \\\n",
       "0                    145249     12827        1459              2004   \n",
       "1                    145249     12827        1459              2004   \n",
       "2                    145249     12827        1459              2004   \n",
       "3                    145255     12827        1459              2004   \n",
       "4                    145255     12827        1459              2004   \n",
       "...                     ...       ...         ...               ...   \n",
       "999539                31520       389        7493              2013   \n",
       "999540                31520       389        7493              2013   \n",
       "999541                31520       389        7493              2013   \n",
       "999542                31519       389        7493              2013   \n",
       "999543                31519       389        7493              2013   \n",
       "\n",
       "        Cylinders  cubiccapacity  kilowatts  SumInsured  \\\n",
       "0             6.0         2597.0      130.0        0.01   \n",
       "1             6.0         2597.0      130.0        0.01   \n",
       "2             6.0         2597.0      130.0        0.01   \n",
       "3             6.0         2597.0      130.0   119300.00   \n",
       "4             6.0         2597.0      130.0   119300.00   \n",
       "...           ...            ...        ...         ...   \n",
       "999539        4.0         2693.0      110.0   500000.00   \n",
       "999540        4.0         2693.0      110.0   500000.00   \n",
       "999541        4.0         2693.0      110.0   500000.00   \n",
       "999542        4.0         2693.0      110.0  5000000.00   \n",
       "999543        4.0         2693.0      110.0  5000000.00   \n",
       "\n",
       "        CalculatedPremiumPerTerm  TotalPremium  TotalClaims  \n",
       "0                        25.0000     21.929825          0.0  \n",
       "1                        25.0000     21.929825          0.0  \n",
       "2                        25.0000      0.000000          0.0  \n",
       "3                       584.6468    512.848070          0.0  \n",
       "4                       584.6468      0.000000          0.0  \n",
       "...                          ...           ...          ...  \n",
       "999539                  395.8481    347.235175          0.0  \n",
       "999540                  395.8481    347.235175          0.0  \n",
       "999541                  395.8481    347.235175          0.0  \n",
       "999542                    2.6391      2.315000          0.0  \n",
       "999543                    2.6391      2.315000          0.0  \n",
       "\n",
       "[999544 rows x 11 columns]"
      ]
     },
     "execution_count": 3,
     "metadata": {},
     "output_type": "execute_result"
    }
   ],
   "source": [
    "df = pd.read_csv('C:/Users/Temp/Desktop/KAI-Projects/Insurance-Risk-Car-Insurance-Risk-Modeling/data/cleaned_data2.csv')\n",
    "\n",
    "num = df.select_dtypes(include = ['object'])\n",
    "num"
   ]
  },
  {
   "cell_type": "code",
   "execution_count": null,
   "metadata": {},
   "outputs": [],
   "source": [
    "\n",
    "    "
   ]
  },
  {
   "cell_type": "code",
   "execution_count": 5,
   "metadata": {},
   "outputs": [],
   "source": [
    "# Initialize the hypothesis testing class\n",
    "hypothesis_testing = HypothesisTesting(df)"
   ]
  },
  {
   "cell_type": "code",
   "execution_count": 6,
   "metadata": {},
   "outputs": [
    {
     "data": {
      "text/plain": [
       "{'Test': 'ANOVA',\n",
       " 'Null Hypothesis': 'No risk differences across provinces',\n",
       " 'F-Statistic': np.float64(6.053373587822999),\n",
       " 'p-Value': np.float64(8.189476829345233e-08),\n",
       " 'Reject Null': np.True_}"
      ]
     },
     "execution_count": 6,
     "metadata": {},
     "output_type": "execute_result"
    }
   ],
   "source": [
    "# Test if there are risk differences across provinces\n",
    "province_test_result = hypothesis_testing.test_risk_across_provinces()\n",
    "province_test_result"
   ]
  },
  {
   "cell_type": "code",
   "execution_count": 7,
   "metadata": {},
   "outputs": [
    {
     "data": {
      "text/plain": [
       "{'Test': 'ANOVA',\n",
       " 'Null Hypothesis': 'No risk differences between zip codes',\n",
       " 'F-Statistic': np.float64(0.9409362422651795),\n",
       " 'p-Value': np.float64(0.8948588787098132),\n",
       " 'Reject Null': np.False_}"
      ]
     },
     "execution_count": 7,
     "metadata": {},
     "output_type": "execute_result"
    }
   ],
   "source": [
    "# Test if there are risk differences between zip codes\n",
    "zipcode_test_result = hypothesis_testing.test_risk_between_postalcodes()\n",
    "zipcode_test_result"
   ]
  },
  {
   "cell_type": "code",
   "execution_count": 8,
   "metadata": {},
   "outputs": [
    {
     "data": {
      "text/plain": [
       "{'Test': 'ANOVA',\n",
       " 'Null Hypothesis': 'No significant margin differences between zip codes',\n",
       " 'F-Statistic': np.float64(0.8754317030012786),\n",
       " 'p-Value': np.float64(0.996773665457904),\n",
       " 'Reject Null': np.False_}"
      ]
     },
     "execution_count": 8,
     "metadata": {},
     "output_type": "execute_result"
    }
   ],
   "source": [
    "# Test if there are significant margin differences between zip codes\n",
    "margin_test_result = hypothesis_testing.test_margin_difference_between_postalcodes()\n",
    "margin_test_result"
   ]
  },
  {
   "cell_type": "code",
   "execution_count": 9,
   "metadata": {},
   "outputs": [
    {
     "data": {
      "text/plain": [
       "{'Test': 'T-Test',\n",
       " 'Null Hypothesis': 'No significant risk differences between women and men',\n",
       " 'T-Statistic': np.float64(2.1826439164153335),\n",
       " 'p-Value': np.float64(0.02906501237909632),\n",
       " 'Reject Null': np.True_}"
      ]
     },
     "execution_count": 9,
     "metadata": {},
     "output_type": "execute_result"
    }
   ],
   "source": [
    "# Test if there are significant risk differences between genders\n",
    "gender_test_result = hypothesis_testing.test_risk_difference_gender()\n",
    "gender_test_result\n"
   ]
  },
  {
   "cell_type": "code",
   "execution_count": 21,
   "metadata": {},
   "outputs": [],
   "source": []
  },
  {
   "cell_type": "code",
   "execution_count": null,
   "metadata": {},
   "outputs": [],
   "source": []
  }
 ],
 "metadata": {
  "kernelspec": {
   "display_name": "week3",
   "language": "python",
   "name": "python3"
  },
  "language_info": {
   "codemirror_mode": {
    "name": "ipython",
    "version": 3
   },
   "file_extension": ".py",
   "mimetype": "text/x-python",
   "name": "python",
   "nbconvert_exporter": "python",
   "pygments_lexer": "ipython3",
   "version": "3.10.10"
  }
 },
 "nbformat": 4,
 "nbformat_minor": 2
}
