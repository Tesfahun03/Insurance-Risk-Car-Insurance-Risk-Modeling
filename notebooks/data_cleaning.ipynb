{
 "cells": [
  {
   "cell_type": "code",
   "execution_count": 1,
   "metadata": {},
   "outputs": [
    {
     "name": "stdout",
     "output_type": "stream",
     "text": [
      "2.2.3\n",
      "2.2.1\n"
     ]
    }
   ],
   "source": [
    "import pandas as pd\n",
    "import matplotlib.pylab as plt\n",
    "import numpy as np\n",
    "pd.set_option('display.max_columns', None)\n",
    "import os \n",
    "import sys\n",
    "sys.path.append(os.path.abspath('..'))\n",
    "print(pd.__version__)\n",
    "print(np.__version__)"
   ]
  },
  {
   "cell_type": "code",
   "execution_count": 2,
   "metadata": {},
   "outputs": [],
   "source": [
    "from src.preprocess_data import CleanData"
   ]
  },
  {
   "cell_type": "code",
   "execution_count": 3,
   "metadata": {},
   "outputs": [
    {
     "name": "stderr",
     "output_type": "stream",
     "text": [
      "C:\\Users\\Temp\\AppData\\Local\\Temp\\ipykernel_14016\\1034177340.py:1: DtypeWarning: Columns (32,37) have mixed types. Specify dtype option on import or set low_memory=False.\n",
      "  df = pd.read_csv('C:/Users/Temp/Desktop/KAI-Projects/Insurance-Risk-Car-Insurance-Risk-Modeling/data/MachineLearningRating.csv')\n"
     ]
    }
   ],
   "source": [
    "df = pd.read_csv('C:/Users/Temp/Desktop/KAI-Projects/Insurance-Risk-Car-Insurance-Risk-Modeling/data/MachineLearningRating.csv')"
   ]
  },
  {
   "cell_type": "code",
   "execution_count": 4,
   "metadata": {},
   "outputs": [
    {
     "name": "stdout",
     "output_type": "stream",
     "text": [
      "<class 'pandas.core.frame.DataFrame'>\n"
     ]
    }
   ],
   "source": [
    "print(type(df))"
   ]
  },
  {
   "cell_type": "code",
   "execution_count": 6,
   "metadata": {},
   "outputs": [
    {
     "data": {
      "text/html": [
       "<div>\n",
       "<style scoped>\n",
       "    .dataframe tbody tr th:only-of-type {\n",
       "        vertical-align: middle;\n",
       "    }\n",
       "\n",
       "    .dataframe tbody tr th {\n",
       "        vertical-align: top;\n",
       "    }\n",
       "\n",
       "    .dataframe thead th {\n",
       "        text-align: right;\n",
       "    }\n",
       "</style>\n",
       "<table border=\"1\" class=\"dataframe\">\n",
       "  <thead>\n",
       "    <tr style=\"text-align: right;\">\n",
       "      <th></th>\n",
       "      <th>UnderwrittenCoverID</th>\n",
       "      <th>PolicyID</th>\n",
       "      <th>TransactionMonth</th>\n",
       "      <th>IsVATRegistered</th>\n",
       "      <th>Citizenship</th>\n",
       "      <th>LegalType</th>\n",
       "      <th>Title</th>\n",
       "      <th>Language</th>\n",
       "      <th>Bank</th>\n",
       "      <th>AccountType</th>\n",
       "      <th>MaritalStatus</th>\n",
       "      <th>Gender</th>\n",
       "      <th>Country</th>\n",
       "      <th>Province</th>\n",
       "      <th>PostalCode</th>\n",
       "      <th>MainCrestaZone</th>\n",
       "      <th>SubCrestaZone</th>\n",
       "      <th>ItemType</th>\n",
       "      <th>mmcode</th>\n",
       "      <th>VehicleType</th>\n",
       "      <th>RegistrationYear</th>\n",
       "      <th>make</th>\n",
       "      <th>Model</th>\n",
       "      <th>Cylinders</th>\n",
       "      <th>cubiccapacity</th>\n",
       "      <th>kilowatts</th>\n",
       "      <th>bodytype</th>\n",
       "      <th>NumberOfDoors</th>\n",
       "      <th>VehicleIntroDate</th>\n",
       "      <th>CustomValueEstimate</th>\n",
       "      <th>AlarmImmobiliser</th>\n",
       "      <th>TrackingDevice</th>\n",
       "      <th>CapitalOutstanding</th>\n",
       "      <th>NewVehicle</th>\n",
       "      <th>WrittenOff</th>\n",
       "      <th>Rebuilt</th>\n",
       "      <th>Converted</th>\n",
       "      <th>CrossBorder</th>\n",
       "      <th>NumberOfVehiclesInFleet</th>\n",
       "      <th>SumInsured</th>\n",
       "      <th>TermFrequency</th>\n",
       "      <th>CalculatedPremiumPerTerm</th>\n",
       "      <th>ExcessSelected</th>\n",
       "      <th>CoverCategory</th>\n",
       "      <th>CoverType</th>\n",
       "      <th>CoverGroup</th>\n",
       "      <th>Section</th>\n",
       "      <th>Product</th>\n",
       "      <th>StatutoryClass</th>\n",
       "      <th>StatutoryRiskType</th>\n",
       "      <th>TotalPremium</th>\n",
       "      <th>TotalClaims</th>\n",
       "    </tr>\n",
       "  </thead>\n",
       "  <tbody>\n",
       "    <tr>\n",
       "      <th>1000093</th>\n",
       "      <td>31520</td>\n",
       "      <td>389</td>\n",
       "      <td>2015-04-01 00:00:00</td>\n",
       "      <td>False</td>\n",
       "      <td>ZW</td>\n",
       "      <td>Individual</td>\n",
       "      <td>Mr</td>\n",
       "      <td>English</td>\n",
       "      <td>ABSA Bank</td>\n",
       "      <td>Savings account</td>\n",
       "      <td>Single</td>\n",
       "      <td>Male</td>\n",
       "      <td>South Africa</td>\n",
       "      <td>Western Cape</td>\n",
       "      <td>7493</td>\n",
       "      <td>Karoo 1 (Northeast of Cape Town)</td>\n",
       "      <td>Northeast of CT</td>\n",
       "      <td>Mobility - Motor</td>\n",
       "      <td>4614100.0</td>\n",
       "      <td>Passenger Vehicle</td>\n",
       "      <td>2013</td>\n",
       "      <td>B.A.W</td>\n",
       "      <td>SASUKA 2.7i (16 SEAT)</td>\n",
       "      <td>4.0</td>\n",
       "      <td>2693.0</td>\n",
       "      <td>110.0</td>\n",
       "      <td>B/S</td>\n",
       "      <td>4.0</td>\n",
       "      <td>2013/01/01 12:00:00 AM</td>\n",
       "      <td>NaN</td>\n",
       "      <td>Yes</td>\n",
       "      <td>No</td>\n",
       "      <td>0</td>\n",
       "      <td>More than 6 months</td>\n",
       "      <td>No</td>\n",
       "      <td>No</td>\n",
       "      <td>No</td>\n",
       "      <td>NaN</td>\n",
       "      <td>NaN</td>\n",
       "      <td>500000.0</td>\n",
       "      <td>Monthly</td>\n",
       "      <td>395.8481</td>\n",
       "      <td>No excess</td>\n",
       "      <td>Third Party</td>\n",
       "      <td>Third Party</td>\n",
       "      <td>Comprehensive - Taxi</td>\n",
       "      <td>Motor Comprehensive</td>\n",
       "      <td>Mobility Commercial Cover: Monthly</td>\n",
       "      <td>Commercial</td>\n",
       "      <td>IFRS Constant</td>\n",
       "      <td>347.235175</td>\n",
       "      <td>0.0</td>\n",
       "    </tr>\n",
       "    <tr>\n",
       "      <th>1000094</th>\n",
       "      <td>31520</td>\n",
       "      <td>389</td>\n",
       "      <td>2015-06-01 00:00:00</td>\n",
       "      <td>False</td>\n",
       "      <td>ZW</td>\n",
       "      <td>Individual</td>\n",
       "      <td>Mr</td>\n",
       "      <td>English</td>\n",
       "      <td>ABSA Bank</td>\n",
       "      <td>Savings account</td>\n",
       "      <td>Single</td>\n",
       "      <td>Male</td>\n",
       "      <td>South Africa</td>\n",
       "      <td>Western Cape</td>\n",
       "      <td>7493</td>\n",
       "      <td>Karoo 1 (Northeast of Cape Town)</td>\n",
       "      <td>Northeast of CT</td>\n",
       "      <td>Mobility - Motor</td>\n",
       "      <td>4614100.0</td>\n",
       "      <td>Passenger Vehicle</td>\n",
       "      <td>2013</td>\n",
       "      <td>B.A.W</td>\n",
       "      <td>SASUKA 2.7i (16 SEAT)</td>\n",
       "      <td>4.0</td>\n",
       "      <td>2693.0</td>\n",
       "      <td>110.0</td>\n",
       "      <td>B/S</td>\n",
       "      <td>4.0</td>\n",
       "      <td>2013/01/01 12:00:00 AM</td>\n",
       "      <td>NaN</td>\n",
       "      <td>Yes</td>\n",
       "      <td>No</td>\n",
       "      <td>0</td>\n",
       "      <td>More than 6 months</td>\n",
       "      <td>No</td>\n",
       "      <td>No</td>\n",
       "      <td>No</td>\n",
       "      <td>NaN</td>\n",
       "      <td>NaN</td>\n",
       "      <td>500000.0</td>\n",
       "      <td>Monthly</td>\n",
       "      <td>395.8481</td>\n",
       "      <td>No excess</td>\n",
       "      <td>Third Party</td>\n",
       "      <td>Third Party</td>\n",
       "      <td>Comprehensive - Taxi</td>\n",
       "      <td>Motor Comprehensive</td>\n",
       "      <td>Mobility Commercial Cover: Monthly</td>\n",
       "      <td>Commercial</td>\n",
       "      <td>IFRS Constant</td>\n",
       "      <td>347.235175</td>\n",
       "      <td>0.0</td>\n",
       "    </tr>\n",
       "    <tr>\n",
       "      <th>1000095</th>\n",
       "      <td>31520</td>\n",
       "      <td>389</td>\n",
       "      <td>2015-08-01 00:00:00</td>\n",
       "      <td>False</td>\n",
       "      <td>ZW</td>\n",
       "      <td>Individual</td>\n",
       "      <td>Mr</td>\n",
       "      <td>English</td>\n",
       "      <td>ABSA Bank</td>\n",
       "      <td>Savings account</td>\n",
       "      <td>Single</td>\n",
       "      <td>Male</td>\n",
       "      <td>South Africa</td>\n",
       "      <td>Western Cape</td>\n",
       "      <td>7493</td>\n",
       "      <td>Karoo 1 (Northeast of Cape Town)</td>\n",
       "      <td>Northeast of CT</td>\n",
       "      <td>Mobility - Motor</td>\n",
       "      <td>4614100.0</td>\n",
       "      <td>Passenger Vehicle</td>\n",
       "      <td>2013</td>\n",
       "      <td>B.A.W</td>\n",
       "      <td>SASUKA 2.7i (16 SEAT)</td>\n",
       "      <td>4.0</td>\n",
       "      <td>2693.0</td>\n",
       "      <td>110.0</td>\n",
       "      <td>B/S</td>\n",
       "      <td>4.0</td>\n",
       "      <td>2013/01/01 12:00:00 AM</td>\n",
       "      <td>NaN</td>\n",
       "      <td>Yes</td>\n",
       "      <td>No</td>\n",
       "      <td>0</td>\n",
       "      <td>More than 6 months</td>\n",
       "      <td>No</td>\n",
       "      <td>No</td>\n",
       "      <td>No</td>\n",
       "      <td>NaN</td>\n",
       "      <td>NaN</td>\n",
       "      <td>500000.0</td>\n",
       "      <td>Monthly</td>\n",
       "      <td>395.8481</td>\n",
       "      <td>No excess</td>\n",
       "      <td>Third Party</td>\n",
       "      <td>Third Party</td>\n",
       "      <td>Comprehensive - Taxi</td>\n",
       "      <td>Motor Comprehensive</td>\n",
       "      <td>Mobility Commercial Cover: Monthly</td>\n",
       "      <td>Commercial</td>\n",
       "      <td>IFRS Constant</td>\n",
       "      <td>347.235175</td>\n",
       "      <td>0.0</td>\n",
       "    </tr>\n",
       "    <tr>\n",
       "      <th>1000096</th>\n",
       "      <td>31519</td>\n",
       "      <td>389</td>\n",
       "      <td>2014-07-01 00:00:00</td>\n",
       "      <td>False</td>\n",
       "      <td>ZW</td>\n",
       "      <td>Individual</td>\n",
       "      <td>Mr</td>\n",
       "      <td>English</td>\n",
       "      <td>ABSA Bank</td>\n",
       "      <td>Savings account</td>\n",
       "      <td>Single</td>\n",
       "      <td>Male</td>\n",
       "      <td>South Africa</td>\n",
       "      <td>Western Cape</td>\n",
       "      <td>7493</td>\n",
       "      <td>Karoo 1 (Northeast of Cape Town)</td>\n",
       "      <td>Northeast of CT</td>\n",
       "      <td>Mobility - Motor</td>\n",
       "      <td>4614100.0</td>\n",
       "      <td>Passenger Vehicle</td>\n",
       "      <td>2013</td>\n",
       "      <td>B.A.W</td>\n",
       "      <td>SASUKA 2.7i (16 SEAT)</td>\n",
       "      <td>4.0</td>\n",
       "      <td>2693.0</td>\n",
       "      <td>110.0</td>\n",
       "      <td>B/S</td>\n",
       "      <td>4.0</td>\n",
       "      <td>2013/01/01 12:00:00 AM</td>\n",
       "      <td>NaN</td>\n",
       "      <td>Yes</td>\n",
       "      <td>No</td>\n",
       "      <td>0</td>\n",
       "      <td>More than 6 months</td>\n",
       "      <td>No</td>\n",
       "      <td>No</td>\n",
       "      <td>No</td>\n",
       "      <td>NaN</td>\n",
       "      <td>NaN</td>\n",
       "      <td>5000000.0</td>\n",
       "      <td>Monthly</td>\n",
       "      <td>2.6391</td>\n",
       "      <td>No excess</td>\n",
       "      <td>Passenger Liability</td>\n",
       "      <td>Passenger Liability</td>\n",
       "      <td>Comprehensive - Taxi</td>\n",
       "      <td>Motor Comprehensive</td>\n",
       "      <td>Mobility Commercial Cover: Monthly</td>\n",
       "      <td>Commercial</td>\n",
       "      <td>IFRS Constant</td>\n",
       "      <td>2.315000</td>\n",
       "      <td>0.0</td>\n",
       "    </tr>\n",
       "    <tr>\n",
       "      <th>1000097</th>\n",
       "      <td>31519</td>\n",
       "      <td>389</td>\n",
       "      <td>2015-02-01 00:00:00</td>\n",
       "      <td>False</td>\n",
       "      <td>ZW</td>\n",
       "      <td>Individual</td>\n",
       "      <td>Mr</td>\n",
       "      <td>English</td>\n",
       "      <td>ABSA Bank</td>\n",
       "      <td>Savings account</td>\n",
       "      <td>Single</td>\n",
       "      <td>Male</td>\n",
       "      <td>South Africa</td>\n",
       "      <td>Western Cape</td>\n",
       "      <td>7493</td>\n",
       "      <td>Karoo 1 (Northeast of Cape Town)</td>\n",
       "      <td>Northeast of CT</td>\n",
       "      <td>Mobility - Motor</td>\n",
       "      <td>4614100.0</td>\n",
       "      <td>Passenger Vehicle</td>\n",
       "      <td>2013</td>\n",
       "      <td>B.A.W</td>\n",
       "      <td>SASUKA 2.7i (16 SEAT)</td>\n",
       "      <td>4.0</td>\n",
       "      <td>2693.0</td>\n",
       "      <td>110.0</td>\n",
       "      <td>B/S</td>\n",
       "      <td>4.0</td>\n",
       "      <td>2013/01/01 12:00:00 AM</td>\n",
       "      <td>NaN</td>\n",
       "      <td>Yes</td>\n",
       "      <td>No</td>\n",
       "      <td>0</td>\n",
       "      <td>More than 6 months</td>\n",
       "      <td>No</td>\n",
       "      <td>No</td>\n",
       "      <td>No</td>\n",
       "      <td>NaN</td>\n",
       "      <td>NaN</td>\n",
       "      <td>5000000.0</td>\n",
       "      <td>Monthly</td>\n",
       "      <td>2.6391</td>\n",
       "      <td>No excess</td>\n",
       "      <td>Passenger Liability</td>\n",
       "      <td>Passenger Liability</td>\n",
       "      <td>Comprehensive - Taxi</td>\n",
       "      <td>Motor Comprehensive</td>\n",
       "      <td>Mobility Commercial Cover: Monthly</td>\n",
       "      <td>Commercial</td>\n",
       "      <td>IFRS Constant</td>\n",
       "      <td>2.315000</td>\n",
       "      <td>0.0</td>\n",
       "    </tr>\n",
       "  </tbody>\n",
       "</table>\n",
       "</div>"
      ],
      "text/plain": [
       "         UnderwrittenCoverID  PolicyID     TransactionMonth  IsVATRegistered  \\\n",
       "1000093                31520       389  2015-04-01 00:00:00            False   \n",
       "1000094                31520       389  2015-06-01 00:00:00            False   \n",
       "1000095                31520       389  2015-08-01 00:00:00            False   \n",
       "1000096                31519       389  2014-07-01 00:00:00            False   \n",
       "1000097                31519       389  2015-02-01 00:00:00            False   \n",
       "\n",
       "        Citizenship   LegalType Title Language       Bank      AccountType  \\\n",
       "1000093          ZW  Individual    Mr  English  ABSA Bank  Savings account   \n",
       "1000094          ZW  Individual    Mr  English  ABSA Bank  Savings account   \n",
       "1000095          ZW  Individual    Mr  English  ABSA Bank  Savings account   \n",
       "1000096          ZW  Individual    Mr  English  ABSA Bank  Savings account   \n",
       "1000097          ZW  Individual    Mr  English  ABSA Bank  Savings account   \n",
       "\n",
       "        MaritalStatus Gender       Country      Province  PostalCode  \\\n",
       "1000093        Single   Male  South Africa  Western Cape        7493   \n",
       "1000094        Single   Male  South Africa  Western Cape        7493   \n",
       "1000095        Single   Male  South Africa  Western Cape        7493   \n",
       "1000096        Single   Male  South Africa  Western Cape        7493   \n",
       "1000097        Single   Male  South Africa  Western Cape        7493   \n",
       "\n",
       "                           MainCrestaZone    SubCrestaZone          ItemType  \\\n",
       "1000093  Karoo 1 (Northeast of Cape Town)  Northeast of CT  Mobility - Motor   \n",
       "1000094  Karoo 1 (Northeast of Cape Town)  Northeast of CT  Mobility - Motor   \n",
       "1000095  Karoo 1 (Northeast of Cape Town)  Northeast of CT  Mobility - Motor   \n",
       "1000096  Karoo 1 (Northeast of Cape Town)  Northeast of CT  Mobility - Motor   \n",
       "1000097  Karoo 1 (Northeast of Cape Town)  Northeast of CT  Mobility - Motor   \n",
       "\n",
       "            mmcode        VehicleType  RegistrationYear   make  \\\n",
       "1000093  4614100.0  Passenger Vehicle              2013  B.A.W   \n",
       "1000094  4614100.0  Passenger Vehicle              2013  B.A.W   \n",
       "1000095  4614100.0  Passenger Vehicle              2013  B.A.W   \n",
       "1000096  4614100.0  Passenger Vehicle              2013  B.A.W   \n",
       "1000097  4614100.0  Passenger Vehicle              2013  B.A.W   \n",
       "\n",
       "                         Model  Cylinders  cubiccapacity  kilowatts bodytype  \\\n",
       "1000093  SASUKA 2.7i (16 SEAT)        4.0         2693.0      110.0      B/S   \n",
       "1000094  SASUKA 2.7i (16 SEAT)        4.0         2693.0      110.0      B/S   \n",
       "1000095  SASUKA 2.7i (16 SEAT)        4.0         2693.0      110.0      B/S   \n",
       "1000096  SASUKA 2.7i (16 SEAT)        4.0         2693.0      110.0      B/S   \n",
       "1000097  SASUKA 2.7i (16 SEAT)        4.0         2693.0      110.0      B/S   \n",
       "\n",
       "         NumberOfDoors        VehicleIntroDate  CustomValueEstimate  \\\n",
       "1000093            4.0  2013/01/01 12:00:00 AM                  NaN   \n",
       "1000094            4.0  2013/01/01 12:00:00 AM                  NaN   \n",
       "1000095            4.0  2013/01/01 12:00:00 AM                  NaN   \n",
       "1000096            4.0  2013/01/01 12:00:00 AM                  NaN   \n",
       "1000097            4.0  2013/01/01 12:00:00 AM                  NaN   \n",
       "\n",
       "        AlarmImmobiliser TrackingDevice CapitalOutstanding  \\\n",
       "1000093              Yes             No                  0   \n",
       "1000094              Yes             No                  0   \n",
       "1000095              Yes             No                  0   \n",
       "1000096              Yes             No                  0   \n",
       "1000097              Yes             No                  0   \n",
       "\n",
       "                 NewVehicle WrittenOff Rebuilt Converted CrossBorder  \\\n",
       "1000093  More than 6 months         No      No        No         NaN   \n",
       "1000094  More than 6 months         No      No        No         NaN   \n",
       "1000095  More than 6 months         No      No        No         NaN   \n",
       "1000096  More than 6 months         No      No        No         NaN   \n",
       "1000097  More than 6 months         No      No        No         NaN   \n",
       "\n",
       "         NumberOfVehiclesInFleet  SumInsured TermFrequency  \\\n",
       "1000093                      NaN    500000.0       Monthly   \n",
       "1000094                      NaN    500000.0       Monthly   \n",
       "1000095                      NaN    500000.0       Monthly   \n",
       "1000096                      NaN   5000000.0       Monthly   \n",
       "1000097                      NaN   5000000.0       Monthly   \n",
       "\n",
       "         CalculatedPremiumPerTerm ExcessSelected        CoverCategory  \\\n",
       "1000093                  395.8481      No excess          Third Party   \n",
       "1000094                  395.8481      No excess          Third Party   \n",
       "1000095                  395.8481      No excess          Third Party   \n",
       "1000096                    2.6391      No excess  Passenger Liability   \n",
       "1000097                    2.6391      No excess  Passenger Liability   \n",
       "\n",
       "                   CoverType            CoverGroup              Section  \\\n",
       "1000093          Third Party  Comprehensive - Taxi  Motor Comprehensive   \n",
       "1000094          Third Party  Comprehensive - Taxi  Motor Comprehensive   \n",
       "1000095          Third Party  Comprehensive - Taxi  Motor Comprehensive   \n",
       "1000096  Passenger Liability  Comprehensive - Taxi  Motor Comprehensive   \n",
       "1000097  Passenger Liability  Comprehensive - Taxi  Motor Comprehensive   \n",
       "\n",
       "                                    Product StatutoryClass StatutoryRiskType  \\\n",
       "1000093  Mobility Commercial Cover: Monthly     Commercial     IFRS Constant   \n",
       "1000094  Mobility Commercial Cover: Monthly     Commercial     IFRS Constant   \n",
       "1000095  Mobility Commercial Cover: Monthly     Commercial     IFRS Constant   \n",
       "1000096  Mobility Commercial Cover: Monthly     Commercial     IFRS Constant   \n",
       "1000097  Mobility Commercial Cover: Monthly     Commercial     IFRS Constant   \n",
       "\n",
       "         TotalPremium  TotalClaims  \n",
       "1000093    347.235175          0.0  \n",
       "1000094    347.235175          0.0  \n",
       "1000095    347.235175          0.0  \n",
       "1000096      2.315000          0.0  \n",
       "1000097      2.315000          0.0  "
      ]
     },
     "execution_count": 6,
     "metadata": {},
     "output_type": "execute_result"
    }
   ],
   "source": [
    "df.tail()\n"
   ]
  },
  {
   "cell_type": "code",
   "execution_count": 7,
   "metadata": {},
   "outputs": [
    {
     "data": {
      "text/plain": [
       "UnderwrittenCoverID           int64\n",
       "PolicyID                      int64\n",
       "TransactionMonth             object\n",
       "IsVATRegistered                bool\n",
       "Citizenship                  object\n",
       "LegalType                    object\n",
       "Title                        object\n",
       "Language                     object\n",
       "Bank                         object\n",
       "AccountType                  object\n",
       "MaritalStatus                object\n",
       "Gender                       object\n",
       "Country                      object\n",
       "Province                     object\n",
       "PostalCode                    int64\n",
       "MainCrestaZone               object\n",
       "SubCrestaZone                object\n",
       "ItemType                     object\n",
       "mmcode                      float64\n",
       "VehicleType                  object\n",
       "RegistrationYear              int64\n",
       "make                         object\n",
       "Model                        object\n",
       "Cylinders                   float64\n",
       "cubiccapacity               float64\n",
       "kilowatts                   float64\n",
       "bodytype                     object\n",
       "NumberOfDoors               float64\n",
       "VehicleIntroDate             object\n",
       "CustomValueEstimate         float64\n",
       "AlarmImmobiliser             object\n",
       "TrackingDevice               object\n",
       "CapitalOutstanding           object\n",
       "NewVehicle                   object\n",
       "WrittenOff                   object\n",
       "Rebuilt                      object\n",
       "Converted                    object\n",
       "CrossBorder                  object\n",
       "NumberOfVehiclesInFleet     float64\n",
       "SumInsured                  float64\n",
       "TermFrequency                object\n",
       "CalculatedPremiumPerTerm    float64\n",
       "ExcessSelected               object\n",
       "CoverCategory                object\n",
       "CoverType                    object\n",
       "CoverGroup                   object\n",
       "Section                      object\n",
       "Product                      object\n",
       "StatutoryClass               object\n",
       "StatutoryRiskType            object\n",
       "TotalPremium                float64\n",
       "TotalClaims                 float64\n",
       "dtype: object"
      ]
     },
     "execution_count": 7,
     "metadata": {},
     "output_type": "execute_result"
    }
   ],
   "source": [
    "df.dtypes"
   ]
  },
  {
   "cell_type": "code",
   "execution_count": 8,
   "metadata": {},
   "outputs": [],
   "source": [
    "df['TransactionMonth'] = pd.to_datetime(df['TransactionMonth'],errors = 'coerce')"
   ]
  },
  {
   "cell_type": "markdown",
   "metadata": {},
   "source": [
    "creating new column called 'Gender_2' by replacingmif title value is 'mr' we assign gender with male else female"
   ]
  },
  {
   "cell_type": "code",
   "execution_count": 9,
   "metadata": {},
   "outputs": [],
   "source": [
    "df['Gender-2'] = df['Title'].apply(lambda x: 'Male' if x == 'Mr' else 'Female')\n"
   ]
  },
  {
   "cell_type": "markdown",
   "metadata": {},
   "source": [
    "                        now drop the old gender column      "
   ]
  },
  {
   "cell_type": "code",
   "execution_count": 10,
   "metadata": {},
   "outputs": [],
   "source": [
    "df = df.drop('Gender', axis = 1)"
   ]
  },
  {
   "cell_type": "code",
   "execution_count": 11,
   "metadata": {},
   "outputs": [
    {
     "data": {
      "text/plain": [
       "<Axes: ylabel='Gender-2'>"
      ]
     },
     "execution_count": 11,
     "metadata": {},
     "output_type": "execute_result"
    },
    {
     "data": {
      "image/png": "[encoded data removed]",
      "text/plain": [
       "<Figure size 640x480 with 1 Axes>"
      ]
     },
     "metadata": {},
     "output_type": "display_data"
    }
   ],
   "source": [
    "df['Gender-2'].value_counts().plot(kind = 'barh')"
   ]
  },
  {
   "cell_type": "code",
   "execution_count": 25,
   "metadata": {},
   "outputs": [
    {
     "data": {
      "text/plain": [
       "UnderwrittenCoverID         0\n",
       "PolicyID                    0\n",
       "TransactionMonth            0\n",
       "IsVATRegistered             0\n",
       "Citizenship                 0\n",
       "LegalType                   0\n",
       "Title                       0\n",
       "Language                    0\n",
       "Bank                        0\n",
       "AccountType                 0\n",
       "Country                     0\n",
       "Province                    0\n",
       "PostalCode                  0\n",
       "MainCrestaZone              0\n",
       "SubCrestaZone               0\n",
       "ItemType                    0\n",
       "VehicleType                 0\n",
       "RegistrationYear            0\n",
       "make                        0\n",
       "Model                       0\n",
       "Cylinders                   0\n",
       "cubiccapacity               0\n",
       "kilowatts                   0\n",
       "bodytype                    0\n",
       "VehicleIntroDate            0\n",
       "AlarmImmobiliser            0\n",
       "TrackingDevice              0\n",
       "CapitalOutstanding          0\n",
       "SumInsured                  0\n",
       "TermFrequency               0\n",
       "CalculatedPremiumPerTerm    0\n",
       "ExcessSelected              0\n",
       "CoverCategory               0\n",
       "CoverType                   0\n",
       "CoverGroup                  0\n",
       "Section                     0\n",
       "Product                     0\n",
       "StatutoryClass              0\n",
       "StatutoryRiskType           0\n",
       "TotalPremium                0\n",
       "TotalClaims                 0\n",
       "Gender-2                    0\n",
       "dtype: int64"
      ]
     },
     "execution_count": 25,
     "metadata": {},
     "output_type": "execute_result"
    }
   ],
   "source": [
    "df.isna().sum()"
   ]
  },
  {
   "cell_type": "code",
   "execution_count": 14,
   "metadata": {},
   "outputs": [
    {
     "name": "stdout",
     "output_type": "stream",
     "text": [
      "<class 'pandas.core.frame.DataFrame'>\n"
     ]
    }
   ],
   "source": [
    "print(type(df))"
   ]
  },
  {
   "cell_type": "code",
   "execution_count": null,
   "metadata": {},
   "outputs": [],
   "source": []
  },
  {
   "cell_type": "markdown",
   "metadata": {},
   "source": [
    "                Cleaning Data with droping columns with above 60% null value\n",
    "                "
   ]
  },
  {
   "cell_type": "code",
   "execution_count": 13,
   "metadata": {},
   "outputs": [],
   "source": [
    "clean = CleanData(df)\n",
    "columns =['CustomValueEstimate', 'WrittenOff', 'Rebuilt', 'Converted', 'CrossBorder', 'NumberOfVehiclesInFleet', 'NumberOfDoors', 'MaritalStatus','NewVehicle']\n",
    "df = clean.drop_multi_column(columns)\n"
   ]
  },
  {
   "cell_type": "code",
   "execution_count": null,
   "metadata": {},
   "outputs": [],
   "source": []
  },
  {
   "cell_type": "code",
   "execution_count": 14,
   "metadata": {},
   "outputs": [
    {
     "data": {
      "text/plain": [
       "<Axes: title={'center': 'Bank frquency '}, xlabel='Count', ylabel='Banks'>"
      ]
     },
     "execution_count": 14,
     "metadata": {},
     "output_type": "execute_result"
    },
    {
     "data": {
      "image/png": "[encoded data removed]",
      "text/plain": [
       "<Figure size 640x480 with 1 Axes>"
      ]
     },
     "metadata": {},
     "output_type": "display_data"
    }
   ],
   "source": [
    "clean.plot_bar('Bank')"
   ]
  },
  {
   "cell_type": "markdown",
   "metadata": {},
   "source": [
    "            \n",
    "            Now we fill the Na value using the previous one in the dataframe of BANK column because most of the data  have same value consequntly "
   ]
  },
  {
   "cell_type": "code",
   "execution_count": 15,
   "metadata": {},
   "outputs": [
    {
     "name": "stderr",
     "output_type": "stream",
     "text": [
      "C:\\Users\\Temp\\AppData\\Local\\Temp\\ipykernel_14016\\2528701249.py:1: FutureWarning: Series.fillna with 'method' is deprecated and will raise in a future version. Use obj.ffill() or obj.bfill() instead.\n",
      "  df['Bank'] = df['Bank'].fillna(method = 'pad')\n"
     ]
    }
   ],
   "source": [
    "df['Bank'] = df['Bank'].fillna(method = 'pad')"
   ]
  },
  {
   "cell_type": "markdown",
   "metadata": {},
   "source": [
    "            checking AccountType distribution"
   ]
  },
  {
   "cell_type": "code",
   "execution_count": 16,
   "metadata": {},
   "outputs": [
    {
     "name": "stderr",
     "output_type": "stream",
     "text": [
      "C:\\Users\\Temp\\AppData\\Local\\Temp\\ipykernel_14016\\119331622.py:3: FutureWarning: Series.fillna with 'method' is deprecated and will raise in a future version. Use obj.ffill() or obj.bfill() instead.\n",
      "  df['AccountType'] = df['AccountType'].fillna(method = 'pad')\n"
     ]
    },
    {
     "data": {
      "image/png": "[encoded data removed]",
      "text/plain": [
       "<Figure size 640x480 with 1 Axes>"
      ]
     },
     "metadata": {},
     "output_type": "display_data"
    }
   ],
   "source": [
    "clean.plot_bar('AccountType')\n",
    "df['AccountType'].value_counts()\n",
    "df['AccountType'] = df['AccountType'].fillna(method = 'pad')"
   ]
  },
  {
   "cell_type": "code",
   "execution_count": 17,
   "metadata": {},
   "outputs": [
    {
     "data": {
      "image/png": "[encoded data removed]",
      "text/plain": [
       "<Figure size 640x480 with 1 Axes>"
      ]
     },
     "metadata": {},
     "output_type": "display_data"
    }
   ],
   "source": [
    "clean.plot_bar('VehicleType')\n",
    "df['VehicleType'] = df['VehicleType'].fillna('Passenger Vehicle')"
   ]
  },
  {
   "cell_type": "code",
   "execution_count": null,
   "metadata": {},
   "outputs": [],
   "source": []
  },
  {
   "cell_type": "code",
   "execution_count": null,
   "metadata": {},
   "outputs": [],
   "source": [
    "\n"
   ]
  },
  {
   "cell_type": "markdown",
   "metadata": {},
   "source": [
    "            the mmcode column of the dataset can be droped because it is a unique identifier for the car make and model but we have a separate columns for those features so we don't really need it."
   ]
  },
  {
   "cell_type": "code",
   "execution_count": 18,
   "metadata": {},
   "outputs": [],
   "source": [
    "df = df.drop('mmcode', axis = 1)"
   ]
  },
  {
   "cell_type": "code",
   "execution_count": 19,
   "metadata": {},
   "outputs": [
    {
     "data": {
      "text/plain": [
       "<Axes: ylabel='Frequency'>"
      ]
     },
     "execution_count": 19,
     "metadata": {},
     "output_type": "execute_result"
    },
    {
     "data": {
      "image/png": "[encoded data removed]",
      "text/plain": [
       "<Figure size 640x480 with 1 Axes>"
      ]
     },
     "metadata": {},
     "output_type": "display_data"
    }
   ],
   "source": [
    "clean.plot_hist('Cylinders')"
   ]
  },
  {
   "cell_type": "code",
   "execution_count": 20,
   "metadata": {},
   "outputs": [],
   "source": [
    "df['Cylinders'].value_counts()\n",
    "\n",
    "# filling the missing value for Cylinders column\n",
    "df['Cylinders'] = clean.fillna('Cylinders', 4.0)"
   ]
  },
  {
   "cell_type": "markdown",
   "metadata": {},
   "source": [
    "        here we fill the cubiccapacity of the vehicles with the mean value because most passenger cars have a capacity of 2.4cc"
   ]
  },
  {
   "cell_type": "code",
   "execution_count": 21,
   "metadata": {},
   "outputs": [],
   "source": [
    "df['cubiccapacity'] = clean.fill_na_mean('cubiccapacity')"
   ]
  },
  {
   "cell_type": "markdown",
   "metadata": {},
   "source": [
    "here we fill the kilowatts of the vehicles with the mean value because most passenger cars have a killowatss of 60-95"
   ]
  },
  {
   "cell_type": "code",
   "execution_count": 22,
   "metadata": {},
   "outputs": [
    {
     "data": {
      "text/plain": [
       "<Axes: ylabel='Frequency'>"
      ]
     },
     "execution_count": 22,
     "metadata": {},
     "output_type": "execute_result"
    },
    {
     "data": {
      "image/png": "[encoded data removed]",
      "text/plain": [
       "<Figure size 640x480 with 1 Axes>"
      ]
     },
     "metadata": {},
     "output_type": "display_data"
    }
   ],
   "source": [
    "clean.plot_hist('kilowatts')"
   ]
  },
  {
   "cell_type": "code",
   "execution_count": 23,
   "metadata": {},
   "outputs": [],
   "source": [
    "df['kilowatts'] =  clean.fill_na_mean('kilowatts')"
   ]
  },
  {
   "cell_type": "markdown",
   "metadata": {},
   "source": [
    "            Finally droping all missing value in row because they are small "
   ]
  },
  {
   "cell_type": "code",
   "execution_count": 24,
   "metadata": {},
   "outputs": [],
   "source": [
    "df = df.dropna()"
   ]
  },
  {
   "cell_type": "code",
   "execution_count": null,
   "metadata": {},
   "outputs": [],
   "source": []
  }
 ],
 "metadata": {
  "kernelspec": {
   "display_name": "week3",
   "language": "python",
   "name": "python3"
  },
  "language_info": {
   "codemirror_mode": {
    "name": "ipython",
    "version": 3
   },
   "file_extension": ".py",
   "mimetype": "text/x-python",
   "name": "python",
   "nbconvert_exporter": "python",
   "pygments_lexer": "ipython3",
   "version": "3.10.10"
  }
 },
 "nbformat": 4,
 "nbformat_minor": 2
}
