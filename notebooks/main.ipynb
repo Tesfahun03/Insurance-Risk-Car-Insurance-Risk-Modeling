{
 "cells": [
  {
   "cell_type": "code",
   "execution_count": 1,
   "metadata": {},
   "outputs": [],
   "source": [
    "import pandas as pd\n",
    "import matplotlib.pylab as plt\n",
    "import numpy as np\n",
    "pd.set_option('display.max_columns', None)\n",
    "import os \n",
    "import sys\n",
    "\n",
    "sys.path.append(os.path.abspath('..'))"
   ]
  },
  {
   "cell_type": "code",
   "execution_count": 2,
   "metadata": {},
   "outputs": [],
   "source": [
    "from src.preprocess_data import CleanData"
   ]
  },
  {
   "cell_type": "code",
   "execution_count": 3,
   "metadata": {},
   "outputs": [
    {
     "name": "stderr",
     "output_type": "stream",
     "text": [
      "C:\\Users\\Temp\\AppData\\Local\\Temp\\ipykernel_13796\\1034177340.py:1: DtypeWarning: Columns (32,37) have mixed types. Specify dtype option on import or set low_memory=False.\n",
      "  df = pd.read_csv('C:/Users/Temp/Desktop/KAI-Projects/Insurance-Risk-Car-Insurance-Risk-Modeling/data/MachineLearningRating.csv')\n"
     ]
    }
   ],
   "source": [
    "df = pd.read_csv('C:/Users/Temp/Desktop/KAI-Projects/Insurance-Risk-Car-Insurance-Risk-Modeling/data/MachineLearningRating.csv')"
   ]
  },
  {
   "cell_type": "code",
   "execution_count": 4,
   "metadata": {},
   "outputs": [
    {
     "name": "stdout",
     "output_type": "stream",
     "text": [
      "<class 'pandas.core.frame.DataFrame'>\n"
     ]
    }
   ],
   "source": [
    "print(type(df))"
   ]
  },
  {
   "cell_type": "code",
   "execution_count": 4,
   "metadata": {},
   "outputs": [
    {
     "data": {
      "text/html": [
       "<div>\n",
       "<style scoped>\n",
       "    .dataframe tbody tr th:only-of-type {\n",
       "        vertical-align: middle;\n",
       "    }\n",
       "\n",
       "    .dataframe tbody tr th {\n",
       "        vertical-align: top;\n",
       "    }\n",
       "\n",
       "    .dataframe thead th {\n",
       "        text-align: right;\n",
       "    }\n",
       "</style>\n",
       "<table border=\"1\" class=\"dataframe\">\n",
       "  <thead>\n",
       "    <tr style=\"text-align: right;\">\n",
       "      <th></th>\n",
       "      <th>UnderwrittenCoverID</th>\n",
       "      <th>PolicyID</th>\n",
       "      <th>TransactionMonth</th>\n",
       "      <th>IsVATRegistered</th>\n",
       "      <th>Citizenship</th>\n",
       "      <th>LegalType</th>\n",
       "      <th>Title</th>\n",
       "      <th>Language</th>\n",
       "      <th>Bank</th>\n",
       "      <th>AccountType</th>\n",
       "      <th>MaritalStatus</th>\n",
       "      <th>Gender</th>\n",
       "      <th>Country</th>\n",
       "      <th>Province</th>\n",
       "      <th>PostalCode</th>\n",
       "      <th>MainCrestaZone</th>\n",
       "      <th>SubCrestaZone</th>\n",
       "      <th>ItemType</th>\n",
       "      <th>mmcode</th>\n",
       "      <th>VehicleType</th>\n",
       "      <th>RegistrationYear</th>\n",
       "      <th>make</th>\n",
       "      <th>Model</th>\n",
       "      <th>Cylinders</th>\n",
       "      <th>cubiccapacity</th>\n",
       "      <th>kilowatts</th>\n",
       "      <th>bodytype</th>\n",
       "      <th>NumberOfDoors</th>\n",
       "      <th>VehicleIntroDate</th>\n",
       "      <th>CustomValueEstimate</th>\n",
       "      <th>AlarmImmobiliser</th>\n",
       "      <th>TrackingDevice</th>\n",
       "      <th>CapitalOutstanding</th>\n",
       "      <th>NewVehicle</th>\n",
       "      <th>WrittenOff</th>\n",
       "      <th>Rebuilt</th>\n",
       "      <th>Converted</th>\n",
       "      <th>CrossBorder</th>\n",
       "      <th>NumberOfVehiclesInFleet</th>\n",
       "      <th>SumInsured</th>\n",
       "      <th>TermFrequency</th>\n",
       "      <th>CalculatedPremiumPerTerm</th>\n",
       "      <th>ExcessSelected</th>\n",
       "      <th>CoverCategory</th>\n",
       "      <th>CoverType</th>\n",
       "      <th>CoverGroup</th>\n",
       "      <th>Section</th>\n",
       "      <th>Product</th>\n",
       "      <th>StatutoryClass</th>\n",
       "      <th>StatutoryRiskType</th>\n",
       "      <th>TotalPremium</th>\n",
       "      <th>TotalClaims</th>\n",
       "    </tr>\n",
       "  </thead>\n",
       "  <tbody>\n",
       "    <tr>\n",
       "      <th>1000093</th>\n",
       "      <td>31520</td>\n",
       "      <td>389</td>\n",
       "      <td>2015-04-01 00:00:00</td>\n",
       "      <td>False</td>\n",
       "      <td>ZW</td>\n",
       "      <td>Individual</td>\n",
       "      <td>Mr</td>\n",
       "      <td>English</td>\n",
       "      <td>ABSA Bank</td>\n",
       "      <td>Savings account</td>\n",
       "      <td>Single</td>\n",
       "      <td>Male</td>\n",
       "      <td>South Africa</td>\n",
       "      <td>Western Cape</td>\n",
       "      <td>7493</td>\n",
       "      <td>Karoo 1 (Northeast of Cape Town)</td>\n",
       "      <td>Northeast of CT</td>\n",
       "      <td>Mobility - Motor</td>\n",
       "      <td>4614100.0</td>\n",
       "      <td>Passenger Vehicle</td>\n",
       "      <td>2013</td>\n",
       "      <td>B.A.W</td>\n",
       "      <td>SASUKA 2.7i (16 SEAT)</td>\n",
       "      <td>4.0</td>\n",
       "      <td>2693.0</td>\n",
       "      <td>110.0</td>\n",
       "      <td>B/S</td>\n",
       "      <td>4.0</td>\n",
       "      <td>2013/01/01 12:00:00 AM</td>\n",
       "      <td>NaN</td>\n",
       "      <td>Yes</td>\n",
       "      <td>No</td>\n",
       "      <td>0</td>\n",
       "      <td>More than 6 months</td>\n",
       "      <td>No</td>\n",
       "      <td>No</td>\n",
       "      <td>No</td>\n",
       "      <td>NaN</td>\n",
       "      <td>NaN</td>\n",
       "      <td>500000.0</td>\n",
       "      <td>Monthly</td>\n",
       "      <td>395.8481</td>\n",
       "      <td>No excess</td>\n",
       "      <td>Third Party</td>\n",
       "      <td>Third Party</td>\n",
       "      <td>Comprehensive - Taxi</td>\n",
       "      <td>Motor Comprehensive</td>\n",
       "      <td>Mobility Commercial Cover: Monthly</td>\n",
       "      <td>Commercial</td>\n",
       "      <td>IFRS Constant</td>\n",
       "      <td>347.235175</td>\n",
       "      <td>0.0</td>\n",
       "    </tr>\n",
       "    <tr>\n",
       "      <th>1000094</th>\n",
       "      <td>31520</td>\n",
       "      <td>389</td>\n",
       "      <td>2015-06-01 00:00:00</td>\n",
       "      <td>False</td>\n",
       "      <td>ZW</td>\n",
       "      <td>Individual</td>\n",
       "      <td>Mr</td>\n",
       "      <td>English</td>\n",
       "      <td>ABSA Bank</td>\n",
       "      <td>Savings account</td>\n",
       "      <td>Single</td>\n",
       "      <td>Male</td>\n",
       "      <td>South Africa</td>\n",
       "      <td>Western Cape</td>\n",
       "      <td>7493</td>\n",
       "      <td>Karoo 1 (Northeast of Cape Town)</td>\n",
       "      <td>Northeast of CT</td>\n",
       "      <td>Mobility - Motor</td>\n",
       "      <td>4614100.0</td>\n",
       "      <td>Passenger Vehicle</td>\n",
       "      <td>2013</td>\n",
       "      <td>B.A.W</td>\n",
       "      <td>SASUKA 2.7i (16 SEAT)</td>\n",
       "      <td>4.0</td>\n",
       "      <td>2693.0</td>\n",
       "      <td>110.0</td>\n",
       "      <td>B/S</td>\n",
       "      <td>4.0</td>\n",
       "      <td>2013/01/01 12:00:00 AM</td>\n",
       "      <td>NaN</td>\n",
       "      <td>Yes</td>\n",
       "      <td>No</td>\n",
       "      <td>0</td>\n",
       "      <td>More than 6 months</td>\n",
       "      <td>No</td>\n",
       "      <td>No</td>\n",
       "      <td>No</td>\n",
       "      <td>NaN</td>\n",
       "      <td>NaN</td>\n",
       "      <td>500000.0</td>\n",
       "      <td>Monthly</td>\n",
       "      <td>395.8481</td>\n",
       "      <td>No excess</td>\n",
       "      <td>Third Party</td>\n",
       "      <td>Third Party</td>\n",
       "      <td>Comprehensive - Taxi</td>\n",
       "      <td>Motor Comprehensive</td>\n",
       "      <td>Mobility Commercial Cover: Monthly</td>\n",
       "      <td>Commercial</td>\n",
       "      <td>IFRS Constant</td>\n",
       "      <td>347.235175</td>\n",
       "      <td>0.0</td>\n",
       "    </tr>\n",
       "    <tr>\n",
       "      <th>1000095</th>\n",
       "      <td>31520</td>\n",
       "      <td>389</td>\n",
       "      <td>2015-08-01 00:00:00</td>\n",
       "      <td>False</td>\n",
       "      <td>ZW</td>\n",
       "      <td>Individual</td>\n",
       "      <td>Mr</td>\n",
       "      <td>English</td>\n",
       "      <td>ABSA Bank</td>\n",
       "      <td>Savings account</td>\n",
       "      <td>Single</td>\n",
       "      <td>Male</td>\n",
       "      <td>South Africa</td>\n",
       "      <td>Western Cape</td>\n",
       "      <td>7493</td>\n",
       "      <td>Karoo 1 (Northeast of Cape Town)</td>\n",
       "      <td>Northeast of CT</td>\n",
       "      <td>Mobility - Motor</td>\n",
       "      <td>4614100.0</td>\n",
       "      <td>Passenger Vehicle</td>\n",
       "      <td>2013</td>\n",
       "      <td>B.A.W</td>\n",
       "      <td>SASUKA 2.7i (16 SEAT)</td>\n",
       "      <td>4.0</td>\n",
       "      <td>2693.0</td>\n",
       "      <td>110.0</td>\n",
       "      <td>B/S</td>\n",
       "      <td>4.0</td>\n",
       "      <td>2013/01/01 12:00:00 AM</td>\n",
       "      <td>NaN</td>\n",
       "      <td>Yes</td>\n",
       "      <td>No</td>\n",
       "      <td>0</td>\n",
       "      <td>More than 6 months</td>\n",
       "      <td>No</td>\n",
       "      <td>No</td>\n",
       "      <td>No</td>\n",
       "      <td>NaN</td>\n",
       "      <td>NaN</td>\n",
       "      <td>500000.0</td>\n",
       "      <td>Monthly</td>\n",
       "      <td>395.8481</td>\n",
       "      <td>No excess</td>\n",
       "      <td>Third Party</td>\n",
       "      <td>Third Party</td>\n",
       "      <td>Comprehensive - Taxi</td>\n",
       "      <td>Motor Comprehensive</td>\n",
       "      <td>Mobility Commercial Cover: Monthly</td>\n",
       "      <td>Commercial</td>\n",
       "      <td>IFRS Constant</td>\n",
       "      <td>347.235175</td>\n",
       "      <td>0.0</td>\n",
       "    </tr>\n",
       "    <tr>\n",
       "      <th>1000096</th>\n",
       "      <td>31519</td>\n",
       "      <td>389</td>\n",
       "      <td>2014-07-01 00:00:00</td>\n",
       "      <td>False</td>\n",
       "      <td>ZW</td>\n",
       "      <td>Individual</td>\n",
       "      <td>Mr</td>\n",
       "      <td>English</td>\n",
       "      <td>ABSA Bank</td>\n",
       "      <td>Savings account</td>\n",
       "      <td>Single</td>\n",
       "      <td>Male</td>\n",
       "      <td>South Africa</td>\n",
       "      <td>Western Cape</td>\n",
       "      <td>7493</td>\n",
       "      <td>Karoo 1 (Northeast of Cape Town)</td>\n",
       "      <td>Northeast of CT</td>\n",
       "      <td>Mobility - Motor</td>\n",
       "      <td>4614100.0</td>\n",
       "      <td>Passenger Vehicle</td>\n",
       "      <td>2013</td>\n",
       "      <td>B.A.W</td>\n",
       "      <td>SASUKA 2.7i (16 SEAT)</td>\n",
       "      <td>4.0</td>\n",
       "      <td>2693.0</td>\n",
       "      <td>110.0</td>\n",
       "      <td>B/S</td>\n",
       "      <td>4.0</td>\n",
       "      <td>2013/01/01 12:00:00 AM</td>\n",
       "      <td>NaN</td>\n",
       "      <td>Yes</td>\n",
       "      <td>No</td>\n",
       "      <td>0</td>\n",
       "      <td>More than 6 months</td>\n",
       "      <td>No</td>\n",
       "      <td>No</td>\n",
       "      <td>No</td>\n",
       "      <td>NaN</td>\n",
       "      <td>NaN</td>\n",
       "      <td>5000000.0</td>\n",
       "      <td>Monthly</td>\n",
       "      <td>2.6391</td>\n",
       "      <td>No excess</td>\n",
       "      <td>Passenger Liability</td>\n",
       "      <td>Passenger Liability</td>\n",
       "      <td>Comprehensive - Taxi</td>\n",
       "      <td>Motor Comprehensive</td>\n",
       "      <td>Mobility Commercial Cover: Monthly</td>\n",
       "      <td>Commercial</td>\n",
       "      <td>IFRS Constant</td>\n",
       "      <td>2.315000</td>\n",
       "      <td>0.0</td>\n",
       "    </tr>\n",
       "    <tr>\n",
       "      <th>1000097</th>\n",
       "      <td>31519</td>\n",
       "      <td>389</td>\n",
       "      <td>2015-02-01 00:00:00</td>\n",
       "      <td>False</td>\n",
       "      <td>ZW</td>\n",
       "      <td>Individual</td>\n",
       "      <td>Mr</td>\n",
       "      <td>English</td>\n",
       "      <td>ABSA Bank</td>\n",
       "      <td>Savings account</td>\n",
       "      <td>Single</td>\n",
       "      <td>Male</td>\n",
       "      <td>South Africa</td>\n",
       "      <td>Western Cape</td>\n",
       "      <td>7493</td>\n",
       "      <td>Karoo 1 (Northeast of Cape Town)</td>\n",
       "      <td>Northeast of CT</td>\n",
       "      <td>Mobility - Motor</td>\n",
       "      <td>4614100.0</td>\n",
       "      <td>Passenger Vehicle</td>\n",
       "      <td>2013</td>\n",
       "      <td>B.A.W</td>\n",
       "      <td>SASUKA 2.7i (16 SEAT)</td>\n",
       "      <td>4.0</td>\n",
       "      <td>2693.0</td>\n",
       "      <td>110.0</td>\n",
       "      <td>B/S</td>\n",
       "      <td>4.0</td>\n",
       "      <td>2013/01/01 12:00:00 AM</td>\n",
       "      <td>NaN</td>\n",
       "      <td>Yes</td>\n",
       "      <td>No</td>\n",
       "      <td>0</td>\n",
       "      <td>More than 6 months</td>\n",
       "      <td>No</td>\n",
       "      <td>No</td>\n",
       "      <td>No</td>\n",
       "      <td>NaN</td>\n",
       "      <td>NaN</td>\n",
       "      <td>5000000.0</td>\n",
       "      <td>Monthly</td>\n",
       "      <td>2.6391</td>\n",
       "      <td>No excess</td>\n",
       "      <td>Passenger Liability</td>\n",
       "      <td>Passenger Liability</td>\n",
       "      <td>Comprehensive - Taxi</td>\n",
       "      <td>Motor Comprehensive</td>\n",
       "      <td>Mobility Commercial Cover: Monthly</td>\n",
       "      <td>Commercial</td>\n",
       "      <td>IFRS Constant</td>\n",
       "      <td>2.315000</td>\n",
       "      <td>0.0</td>\n",
       "    </tr>\n",
       "  </tbody>\n",
       "</table>\n",
       "</div>"
      ],
      "text/plain": [
       "         UnderwrittenCoverID  PolicyID     TransactionMonth  IsVATRegistered  \\\n",
       "1000093                31520       389  2015-04-01 00:00:00            False   \n",
       "1000094                31520       389  2015-06-01 00:00:00            False   \n",
       "1000095                31520       389  2015-08-01 00:00:00            False   \n",
       "1000096                31519       389  2014-07-01 00:00:00            False   \n",
       "1000097                31519       389  2015-02-01 00:00:00            False   \n",
       "\n",
       "        Citizenship   LegalType Title Language       Bank      AccountType  \\\n",
       "1000093          ZW  Individual    Mr  English  ABSA Bank  Savings account   \n",
       "1000094          ZW  Individual    Mr  English  ABSA Bank  Savings account   \n",
       "1000095          ZW  Individual    Mr  English  ABSA Bank  Savings account   \n",
       "1000096          ZW  Individual    Mr  English  ABSA Bank  Savings account   \n",
       "1000097          ZW  Individual    Mr  English  ABSA Bank  Savings account   \n",
       "\n",
       "        MaritalStatus Gender       Country      Province  PostalCode  \\\n",
       "1000093        Single   Male  South Africa  Western Cape        7493   \n",
       "1000094        Single   Male  South Africa  Western Cape        7493   \n",
       "1000095        Single   Male  South Africa  Western Cape        7493   \n",
       "1000096        Single   Male  South Africa  Western Cape        7493   \n",
       "1000097        Single   Male  South Africa  Western Cape        7493   \n",
       "\n",
       "                           MainCrestaZone    SubCrestaZone          ItemType  \\\n",
       "1000093  Karoo 1 (Northeast of Cape Town)  Northeast of CT  Mobility - Motor   \n",
       "1000094  Karoo 1 (Northeast of Cape Town)  Northeast of CT  Mobility - Motor   \n",
       "1000095  Karoo 1 (Northeast of Cape Town)  Northeast of CT  Mobility - Motor   \n",
       "1000096  Karoo 1 (Northeast of Cape Town)  Northeast of CT  Mobility - Motor   \n",
       "1000097  Karoo 1 (Northeast of Cape Town)  Northeast of CT  Mobility - Motor   \n",
       "\n",
       "            mmcode        VehicleType  RegistrationYear   make  \\\n",
       "1000093  4614100.0  Passenger Vehicle              2013  B.A.W   \n",
       "1000094  4614100.0  Passenger Vehicle              2013  B.A.W   \n",
       "1000095  4614100.0  Passenger Vehicle              2013  B.A.W   \n",
       "1000096  4614100.0  Passenger Vehicle              2013  B.A.W   \n",
       "1000097  4614100.0  Passenger Vehicle              2013  B.A.W   \n",
       "\n",
       "                         Model  Cylinders  cubiccapacity  kilowatts bodytype  \\\n",
       "1000093  SASUKA 2.7i (16 SEAT)        4.0         2693.0      110.0      B/S   \n",
       "1000094  SASUKA 2.7i (16 SEAT)        4.0         2693.0      110.0      B/S   \n",
       "1000095  SASUKA 2.7i (16 SEAT)        4.0         2693.0      110.0      B/S   \n",
       "1000096  SASUKA 2.7i (16 SEAT)        4.0         2693.0      110.0      B/S   \n",
       "1000097  SASUKA 2.7i (16 SEAT)        4.0         2693.0      110.0      B/S   \n",
       "\n",
       "         NumberOfDoors        VehicleIntroDate  CustomValueEstimate  \\\n",
       "1000093            4.0  2013/01/01 12:00:00 AM                  NaN   \n",
       "1000094            4.0  2013/01/01 12:00:00 AM                  NaN   \n",
       "1000095            4.0  2013/01/01 12:00:00 AM                  NaN   \n",
       "1000096            4.0  2013/01/01 12:00:00 AM                  NaN   \n",
       "1000097            4.0  2013/01/01 12:00:00 AM                  NaN   \n",
       "\n",
       "        AlarmImmobiliser TrackingDevice CapitalOutstanding  \\\n",
       "1000093              Yes             No                  0   \n",
       "1000094              Yes             No                  0   \n",
       "1000095              Yes             No                  0   \n",
       "1000096              Yes             No                  0   \n",
       "1000097              Yes             No                  0   \n",
       "\n",
       "                 NewVehicle WrittenOff Rebuilt Converted CrossBorder  \\\n",
       "1000093  More than 6 months         No      No        No         NaN   \n",
       "1000094  More than 6 months         No      No        No         NaN   \n",
       "1000095  More than 6 months         No      No        No         NaN   \n",
       "1000096  More than 6 months         No      No        No         NaN   \n",
       "1000097  More than 6 months         No      No        No         NaN   \n",
       "\n",
       "         NumberOfVehiclesInFleet  SumInsured TermFrequency  \\\n",
       "1000093                      NaN    500000.0       Monthly   \n",
       "1000094                      NaN    500000.0       Monthly   \n",
       "1000095                      NaN    500000.0       Monthly   \n",
       "1000096                      NaN   5000000.0       Monthly   \n",
       "1000097                      NaN   5000000.0       Monthly   \n",
       "\n",
       "         CalculatedPremiumPerTerm ExcessSelected        CoverCategory  \\\n",
       "1000093                  395.8481      No excess          Third Party   \n",
       "1000094                  395.8481      No excess          Third Party   \n",
       "1000095                  395.8481      No excess          Third Party   \n",
       "1000096                    2.6391      No excess  Passenger Liability   \n",
       "1000097                    2.6391      No excess  Passenger Liability   \n",
       "\n",
       "                   CoverType            CoverGroup              Section  \\\n",
       "1000093          Third Party  Comprehensive - Taxi  Motor Comprehensive   \n",
       "1000094          Third Party  Comprehensive - Taxi  Motor Comprehensive   \n",
       "1000095          Third Party  Comprehensive - Taxi  Motor Comprehensive   \n",
       "1000096  Passenger Liability  Comprehensive - Taxi  Motor Comprehensive   \n",
       "1000097  Passenger Liability  Comprehensive - Taxi  Motor Comprehensive   \n",
       "\n",
       "                                    Product StatutoryClass StatutoryRiskType  \\\n",
       "1000093  Mobility Commercial Cover: Monthly     Commercial     IFRS Constant   \n",
       "1000094  Mobility Commercial Cover: Monthly     Commercial     IFRS Constant   \n",
       "1000095  Mobility Commercial Cover: Monthly     Commercial     IFRS Constant   \n",
       "1000096  Mobility Commercial Cover: Monthly     Commercial     IFRS Constant   \n",
       "1000097  Mobility Commercial Cover: Monthly     Commercial     IFRS Constant   \n",
       "\n",
       "         TotalPremium  TotalClaims  \n",
       "1000093    347.235175          0.0  \n",
       "1000094    347.235175          0.0  \n",
       "1000095    347.235175          0.0  \n",
       "1000096      2.315000          0.0  \n",
       "1000097      2.315000          0.0  "
      ]
     },
     "execution_count": 4,
     "metadata": {},
     "output_type": "execute_result"
    }
   ],
   "source": [
    "df.tail()\n"
   ]
  },
  {
   "cell_type": "code",
   "execution_count": null,
   "metadata": {},
   "outputs": [],
   "source": []
  },
  {
   "cell_type": "code",
   "execution_count": 14,
   "metadata": {},
   "outputs": [
    {
     "data": {
      "text/plain": [
       "UnderwrittenCoverID             0\n",
       "PolicyID                        0\n",
       "TransactionMonth                0\n",
       "IsVATRegistered                 0\n",
       "Citizenship                     0\n",
       "LegalType                       0\n",
       "Title                           0\n",
       "Language                        0\n",
       "Bank                            0\n",
       "AccountType                 40232\n",
       "Gender                       9536\n",
       "Country                         0\n",
       "Province                        0\n",
       "PostalCode                      0\n",
       "MainCrestaZone                  0\n",
       "SubCrestaZone                   0\n",
       "ItemType                        0\n",
       "mmcode                        552\n",
       "VehicleType                     0\n",
       "RegistrationYear                0\n",
       "make                          552\n",
       "Model                         552\n",
       "Cylinders                     552\n",
       "cubiccapacity                 552\n",
       "kilowatts                     552\n",
       "bodytype                      552\n",
       "VehicleIntroDate              552\n",
       "AlarmImmobiliser                0\n",
       "TrackingDevice                  0\n",
       "CapitalOutstanding              2\n",
       "SumInsured                      0\n",
       "TermFrequency                   0\n",
       "CalculatedPremiumPerTerm        0\n",
       "ExcessSelected                  0\n",
       "CoverCategory                   0\n",
       "CoverType                       0\n",
       "CoverGroup                      0\n",
       "Section                         0\n",
       "Product                         0\n",
       "StatutoryClass                  0\n",
       "StatutoryRiskType               0\n",
       "TotalPremium                    0\n",
       "TotalClaims                     0\n",
       "dtype: int64"
      ]
     },
     "execution_count": 14,
     "metadata": {},
     "output_type": "execute_result"
    }
   ],
   "source": [
    "df.isna().sum()"
   ]
  },
  {
   "cell_type": "code",
   "execution_count": 14,
   "metadata": {},
   "outputs": [
    {
     "name": "stdout",
     "output_type": "stream",
     "text": [
      "<class 'pandas.core.frame.DataFrame'>\n"
     ]
    }
   ],
   "source": [
    "print(type(df))"
   ]
  },
  {
   "cell_type": "code",
   "execution_count": null,
   "metadata": {},
   "outputs": [],
   "source": []
  },
  {
   "cell_type": "markdown",
   "metadata": {},
   "source": [
    "                Cleaning Data with droping columns with above 60% null value\n",
    "                "
   ]
  },
  {
   "cell_type": "code",
   "execution_count": 6,
   "metadata": {},
   "outputs": [],
   "source": [
    "clean = CleanData(df)\n",
    "columns =['CustomValueEstimate', 'WrittenOff', 'Rebuilt', 'Converted', 'CrossBorder', 'NumberOfVehiclesInFleet', 'NumberOfDoors', 'MaritalStatus','NewVehicle']\n",
    "df = clean.drop_multi_column(columns)\n"
   ]
  },
  {
   "cell_type": "code",
   "execution_count": null,
   "metadata": {},
   "outputs": [],
   "source": []
  },
  {
   "cell_type": "code",
   "execution_count": 7,
   "metadata": {},
   "outputs": [
    {
     "data": {
      "text/plain": [
       "<Axes: title={'center': 'Bank frquency '}, xlabel='Count', ylabel='Banks'>"
      ]
     },
     "execution_count": 7,
     "metadata": {},
     "output_type": "execute_result"
    },
    {
     "data": {
      "image/png": "[encoded data removed]",
      "text/plain": [
       "<Figure size 640x480 with 1 Axes>"
      ]
     },
     "metadata": {},
     "output_type": "display_data"
    }
   ],
   "source": [
    "clean.plot_bar('Bank')"
   ]
  },
  {
   "cell_type": "markdown",
   "metadata": {},
   "source": [
    "            \n",
    "            Now we fill the Na value using the previous one in the dataframe of BANK column because most of the data  have same value consequntly "
   ]
  },
  {
   "cell_type": "code",
   "execution_count": 8,
   "metadata": {},
   "outputs": [
    {
     "name": "stderr",
     "output_type": "stream",
     "text": [
      "C:\\Users\\Temp\\AppData\\Local\\Temp\\ipykernel_13796\\2528701249.py:1: FutureWarning: Series.fillna with 'method' is deprecated and will raise in a future version. Use obj.ffill() or obj.bfill() instead.\n",
      "  df['Bank'] = df['Bank'].fillna(method = 'pad')\n"
     ]
    }
   ],
   "source": [
    "df['Bank'] = df['Bank'].fillna(method = 'pad')"
   ]
  },
  {
   "cell_type": "markdown",
   "metadata": {},
   "source": [
    "            checking AccountType distribution"
   ]
  },
  {
   "cell_type": "code",
   "execution_count": 9,
   "metadata": {},
   "outputs": [
    {
     "data": {
      "text/plain": [
       "AccountType\n",
       "Current account         597938\n",
       "Savings account         358207\n",
       "Transmission account      3721\n",
       "Name: count, dtype: int64"
      ]
     },
     "execution_count": 9,
     "metadata": {},
     "output_type": "execute_result"
    },
    {
     "data": {
      "image/png": "[encoded data removed]",
      "text/plain": [
       "<Figure size 640x480 with 1 Axes>"
      ]
     },
     "metadata": {},
     "output_type": "display_data"
    }
   ],
   "source": [
    "clean.plot_bar('AccountType')\n",
    "df['AccountType'].value_counts()"
   ]
  },
  {
   "cell_type": "code",
   "execution_count": 10,
   "metadata": {},
   "outputs": [
    {
     "data": {
      "image/png": "[encoded data removed]",
      "text/plain": [
       "<Figure size 640x480 with 1 Axes>"
      ]
     },
     "metadata": {},
     "output_type": "display_data"
    }
   ],
   "source": [
    "clean.plot_bar('VehicleType')\n",
    "df['VehicleType'] = df['VehicleType'].fillna('Passenger Vehicle')"
   ]
  },
  {
   "cell_type": "code",
   "execution_count": 12,
   "metadata": {},
   "outputs": [
    {
     "ename": "KeyError",
     "evalue": "'NewVehicle'",
     "output_type": "error",
     "traceback": [
      "\u001b[1;31m---------------------------------------------------------------------------\u001b[0m",
      "\u001b[1;31mKeyError\u001b[0m                                  Traceback (most recent call last)",
      "File \u001b[1;32mc:\\Users\\Temp\\Desktop\\KAI-Projects\\Insurance-Risk-Car-Insurance-Risk-Modeling\\week3\\lib\\site-packages\\pandas\\core\\indexes\\base.py:3805\u001b[0m, in \u001b[0;36mIndex.get_loc\u001b[1;34m(self, key)\u001b[0m\n\u001b[0;32m   3804\u001b[0m \u001b[38;5;28;01mtry\u001b[39;00m:\n\u001b[1;32m-> 3805\u001b[0m     \u001b[38;5;28;01mreturn\u001b[39;00m \u001b[38;5;28;43mself\u001b[39;49m\u001b[38;5;241;43m.\u001b[39;49m\u001b[43m_engine\u001b[49m\u001b[38;5;241;43m.\u001b[39;49m\u001b[43mget_loc\u001b[49m\u001b[43m(\u001b[49m\u001b[43mcasted_key\u001b[49m\u001b[43m)\u001b[49m\n\u001b[0;32m   3806\u001b[0m \u001b[38;5;28;01mexcept\u001b[39;00m \u001b[38;5;167;01mKeyError\u001b[39;00m \u001b[38;5;28;01mas\u001b[39;00m err:\n",
      "File \u001b[1;32mindex.pyx:167\u001b[0m, in \u001b[0;36mpandas._libs.index.IndexEngine.get_loc\u001b[1;34m()\u001b[0m\n",
      "File \u001b[1;32mindex.pyx:196\u001b[0m, in \u001b[0;36mpandas._libs.index.IndexEngine.get_loc\u001b[1;34m()\u001b[0m\n",
      "File \u001b[1;32mpandas\\\\_libs\\\\hashtable_class_helper.pxi:7081\u001b[0m, in \u001b[0;36mpandas._libs.hashtable.PyObjectHashTable.get_item\u001b[1;34m()\u001b[0m\n",
      "File \u001b[1;32mpandas\\\\_libs\\\\hashtable_class_helper.pxi:7089\u001b[0m, in \u001b[0;36mpandas._libs.hashtable.PyObjectHashTable.get_item\u001b[1;34m()\u001b[0m\n",
      "\u001b[1;31mKeyError\u001b[0m: 'NewVehicle'",
      "\nThe above exception was the direct cause of the following exception:\n",
      "\u001b[1;31mKeyError\u001b[0m                                  Traceback (most recent call last)",
      "Cell \u001b[1;32mIn[12], line 2\u001b[0m\n\u001b[0;32m      1\u001b[0m clean\u001b[38;5;241m.\u001b[39mplot_bar(\u001b[38;5;124m'\u001b[39m\u001b[38;5;124mNewVehicle\u001b[39m\u001b[38;5;124m'\u001b[39m)\n\u001b[1;32m----> 2\u001b[0m df[\u001b[38;5;124m'\u001b[39m\u001b[38;5;124mNewVehicle\u001b[39m\u001b[38;5;124m'\u001b[39m] \u001b[38;5;241m=\u001b[39m \u001b[43mdf\u001b[49m\u001b[43m[\u001b[49m\u001b[38;5;124;43m'\u001b[39;49m\u001b[38;5;124;43mNewVehicle\u001b[39;49m\u001b[38;5;124;43m'\u001b[39;49m\u001b[43m]\u001b[49m\u001b[38;5;241m.\u001b[39mfillna(\u001b[38;5;124m'\u001b[39m\u001b[38;5;124mMore than 6 months\u001b[39m\u001b[38;5;124m'\u001b[39m)\n",
      "File \u001b[1;32mc:\\Users\\Temp\\Desktop\\KAI-Projects\\Insurance-Risk-Car-Insurance-Risk-Modeling\\week3\\lib\\site-packages\\pandas\\core\\frame.py:4102\u001b[0m, in \u001b[0;36mDataFrame.__getitem__\u001b[1;34m(self, key)\u001b[0m\n\u001b[0;32m   4100\u001b[0m \u001b[38;5;28;01mif\u001b[39;00m \u001b[38;5;28mself\u001b[39m\u001b[38;5;241m.\u001b[39mcolumns\u001b[38;5;241m.\u001b[39mnlevels \u001b[38;5;241m>\u001b[39m \u001b[38;5;241m1\u001b[39m:\n\u001b[0;32m   4101\u001b[0m     \u001b[38;5;28;01mreturn\u001b[39;00m \u001b[38;5;28mself\u001b[39m\u001b[38;5;241m.\u001b[39m_getitem_multilevel(key)\n\u001b[1;32m-> 4102\u001b[0m indexer \u001b[38;5;241m=\u001b[39m \u001b[38;5;28;43mself\u001b[39;49m\u001b[38;5;241;43m.\u001b[39;49m\u001b[43mcolumns\u001b[49m\u001b[38;5;241;43m.\u001b[39;49m\u001b[43mget_loc\u001b[49m\u001b[43m(\u001b[49m\u001b[43mkey\u001b[49m\u001b[43m)\u001b[49m\n\u001b[0;32m   4103\u001b[0m \u001b[38;5;28;01mif\u001b[39;00m is_integer(indexer):\n\u001b[0;32m   4104\u001b[0m     indexer \u001b[38;5;241m=\u001b[39m [indexer]\n",
      "File \u001b[1;32mc:\\Users\\Temp\\Desktop\\KAI-Projects\\Insurance-Risk-Car-Insurance-Risk-Modeling\\week3\\lib\\site-packages\\pandas\\core\\indexes\\base.py:3812\u001b[0m, in \u001b[0;36mIndex.get_loc\u001b[1;34m(self, key)\u001b[0m\n\u001b[0;32m   3807\u001b[0m     \u001b[38;5;28;01mif\u001b[39;00m \u001b[38;5;28misinstance\u001b[39m(casted_key, \u001b[38;5;28mslice\u001b[39m) \u001b[38;5;129;01mor\u001b[39;00m (\n\u001b[0;32m   3808\u001b[0m         \u001b[38;5;28misinstance\u001b[39m(casted_key, abc\u001b[38;5;241m.\u001b[39mIterable)\n\u001b[0;32m   3809\u001b[0m         \u001b[38;5;129;01mand\u001b[39;00m \u001b[38;5;28many\u001b[39m(\u001b[38;5;28misinstance\u001b[39m(x, \u001b[38;5;28mslice\u001b[39m) \u001b[38;5;28;01mfor\u001b[39;00m x \u001b[38;5;129;01min\u001b[39;00m casted_key)\n\u001b[0;32m   3810\u001b[0m     ):\n\u001b[0;32m   3811\u001b[0m         \u001b[38;5;28;01mraise\u001b[39;00m InvalidIndexError(key)\n\u001b[1;32m-> 3812\u001b[0m     \u001b[38;5;28;01mraise\u001b[39;00m \u001b[38;5;167;01mKeyError\u001b[39;00m(key) \u001b[38;5;28;01mfrom\u001b[39;00m \u001b[38;5;21;01merr\u001b[39;00m\n\u001b[0;32m   3813\u001b[0m \u001b[38;5;28;01mexcept\u001b[39;00m \u001b[38;5;167;01mTypeError\u001b[39;00m:\n\u001b[0;32m   3814\u001b[0m     \u001b[38;5;66;03m# If we have a listlike key, _check_indexing_error will raise\u001b[39;00m\n\u001b[0;32m   3815\u001b[0m     \u001b[38;5;66;03m#  InvalidIndexError. Otherwise we fall through and re-raise\u001b[39;00m\n\u001b[0;32m   3816\u001b[0m     \u001b[38;5;66;03m#  the TypeError.\u001b[39;00m\n\u001b[0;32m   3817\u001b[0m     \u001b[38;5;28mself\u001b[39m\u001b[38;5;241m.\u001b[39m_check_indexing_error(key)\n",
      "\u001b[1;31mKeyError\u001b[0m: 'NewVehicle'"
     ]
    },
    {
     "data": {
      "image/png": "[encoded data removed]",
      "text/plain": [
       "<Figure size 640x480 with 1 Axes>"
      ]
     },
     "metadata": {},
     "output_type": "display_data"
    }
   ],
   "source": [
    "clean.plot_bar('NewVehicle')\n",
    "df['NewVehicle'] = df['NewVehicle'].fillna('More than 6 months')"
   ]
  },
  {
   "cell_type": "code",
   "execution_count": 13,
   "metadata": {},
   "outputs": [
    {
     "data": {
      "text/plain": [
       "<Axes: title={'center': 'Gender frquency '}, xlabel='Count', ylabel='Genders'>"
      ]
     },
     "execution_count": 13,
     "metadata": {},
     "output_type": "execute_result"
    },
    {
     "data": {
      "image/png": "[encoded data removed]",
      "text/plain": [
       "<Figure size 640x480 with 1 Axes>"
      ]
     },
     "metadata": {},
     "output_type": "display_data"
    }
   ],
   "source": [
    "clean.plot_bar('Gender')"
   ]
  },
  {
   "cell_type": "code",
   "execution_count": null,
   "metadata": {},
   "outputs": [],
   "source": [
    "\n"
   ]
  },
  {
   "cell_type": "code",
   "execution_count": 13,
   "metadata": {},
   "outputs": [
    {
     "name": "stdout",
     "output_type": "stream",
     "text": [
      "<class 'pandas.core.frame.DataFrame'>\n"
     ]
    }
   ],
   "source": []
  }
 ],
 "metadata": {
  "kernelspec": {
   "display_name": "week3",
   "language": "python",
   "name": "python3"
  },
  "language_info": {
   "codemirror_mode": {
    "name": "ipython",
    "version": 3
   },
   "file_extension": ".py",
   "mimetype": "text/x-python",
   "name": "python",
   "nbconvert_exporter": "python",
   "pygments_lexer": "ipython3",
   "version": "3.10.10"
  }
 },
 "nbformat": 4,
 "nbformat_minor": 2
}
